{
 "cells": [
  {
   "cell_type": "markdown",
   "metadata": {},
   "source": [
    "<h3>POS tags</h3>"
   ]
  },
  {
   "cell_type": "code",
   "execution_count": 1,
   "metadata": {},
   "outputs": [],
   "source": [
    "import spacy"
   ]
  },
  {
   "cell_type": "code",
   "execution_count": 5,
   "metadata": {
    "scrolled": true
   },
   "outputs": [
    {
     "name": "stdout",
     "output_type": "stream",
     "text": [
      "we  |  PRON  |  pronoun\n",
      "are  |  AUX  |  auxiliary\n",
      "learning  |  VERB  |  verb\n",
      "NLP  |  PROPN  |  proper noun\n"
     ]
    }
   ],
   "source": [
    "nlp = spacy.load(\"en_core_web_sm\")\n",
    "\n",
    "# doc = nlp(\"Feature extraction is an important step for any machine learning problem.\")\n",
    "doc = nlp(\"we are learning NLP\")\n",
    "\n",
    "# print(type(doc))\n",
    "for token in doc:\n",
    "    print(token,\" | \", token.pos_, \" | \", spacy.explain(token.pos_))"
   ]
  },
  {
   "cell_type": "code",
   "execution_count": null,
   "metadata": {},
   "outputs": [],
   "source": [
    "# https://v2.spacy.io/api/annotation"
   ]
  },
  {
   "cell_type": "code",
   "execution_count": 3,
   "metadata": {},
   "outputs": [
    {
     "name": "stdout",
     "output_type": "stream",
     "text": [
      "In  |  ADP  |  adposition\n",
      "India  |  PROPN  |  proper noun\n",
      ",  |  PUNCT  |  punctuation\n",
      "cricket  |  NOUN  |  noun\n",
      "has  |  AUX  |  auxiliary\n",
      "become  |  VERB  |  verb\n",
      "immensely  |  ADV  |  adverb\n",
      "profitable  |  ADJ  |  adjective\n",
      "and  |  CCONJ  |  coordinating conjunction\n",
      "a  |  DET  |  determiner\n",
      "destination  |  NOUN  |  noun\n",
      "for  |  ADP  |  adposition\n",
      "the  |  DET  |  determiner\n",
      "world  |  NOUN  |  noun\n",
      "’s  |  PART  |  particle\n",
      "best  |  ADJ  |  adjective\n",
      "players  |  NOUN  |  noun\n",
      ".  |  PUNCT  |  punctuation\n",
      "But  |  CCONJ  |  coordinating conjunction\n",
      "a  |  DET  |  determiner\n",
      "tournament  |  ADJ  |  adjective\n",
      "victory  |  NOUN  |  noun\n",
      "had  |  AUX  |  auxiliary\n",
      "eluded  |  VERB  |  verb\n",
      "it  |  PRON  |  pronoun\n",
      "for  |  ADP  |  adposition\n",
      "many  |  ADJ  |  adjective\n",
      "years  |  NOUN  |  noun\n",
      ".  |  PUNCT  |  punctuation\n"
     ]
    }
   ],
   "source": [
    "\n",
    "doc = nlp(\"In India, cricket has become immensely profitable and a destination for the world’s best players. But a tournament victory had eluded it for many years.\")\n",
    "\n",
    "for token in doc:\n",
    "    print(token,\" | \", token.pos_, \" | \", spacy.explain(token.pos_))"
   ]
  },
  {
   "cell_type": "markdown",
   "metadata": {},
   "source": [
    "<h3>Tags</h3>"
   ]
  },
  {
   "cell_type": "code",
   "execution_count": 4,
   "metadata": {},
   "outputs": [
    {
     "name": "stdout",
     "output_type": "stream",
     "text": [
      "In  |  ADP  |  adposition  |  IN  |  conjunction, subordinating or preposition\n",
      "India  |  PROPN  |  proper noun  |  NNP  |  noun, proper singular\n",
      ",  |  PUNCT  |  punctuation  |  ,  |  punctuation mark, comma\n",
      "cricket  |  NOUN  |  noun  |  NN  |  noun, singular or mass\n",
      "has  |  AUX  |  auxiliary  |  VBZ  |  verb, 3rd person singular present\n",
      "become  |  VERB  |  verb  |  VBN  |  verb, past participle\n",
      "immensely  |  ADV  |  adverb  |  RB  |  adverb\n",
      "profitable  |  ADJ  |  adjective  |  JJ  |  adjective (English), other noun-modifier (Chinese)\n",
      "and  |  CCONJ  |  coordinating conjunction  |  CC  |  conjunction, coordinating\n",
      "a  |  DET  |  determiner  |  DT  |  determiner\n",
      "destination  |  NOUN  |  noun  |  NN  |  noun, singular or mass\n",
      "for  |  ADP  |  adposition  |  IN  |  conjunction, subordinating or preposition\n",
      "the  |  DET  |  determiner  |  DT  |  determiner\n",
      "world  |  NOUN  |  noun  |  NN  |  noun, singular or mass\n",
      "’s  |  PART  |  particle  |  POS  |  possessive ending\n",
      "best  |  ADJ  |  adjective  |  JJS  |  adjective, superlative\n",
      "players  |  NOUN  |  noun  |  NNS  |  noun, plural\n",
      ".  |  PUNCT  |  punctuation  |  .  |  punctuation mark, sentence closer\n"
     ]
    }
   ],
   "source": [
    "doc = nlp(\"In India, cricket has become immensely profitable and a destination for the world’s best players. \")\n",
    "\n",
    "for token in doc:\n",
    "    print(token,\" | \", token.pos_, \" | \", spacy.explain(token.pos_), \" | \", token.tag_, \" | \", spacy.explain(token.tag_))"
   ]
  },
  {
   "cell_type": "code",
   "execution_count": 6,
   "metadata": {},
   "outputs": [
    {
     "name": "stdout",
     "output_type": "stream",
     "text": [
      "play | VBP | verb, non-3rd person singular present\n"
     ]
    }
   ],
   "source": [
    "doc = nlp(\"Lets play cricket\")\n",
    "\n",
    "print(doc[1].text, \"|\", doc[1].tag_, \"|\", spacy.explain(doc[1].tag_))"
   ]
  },
  {
   "cell_type": "code",
   "execution_count": 6,
   "metadata": {
    "scrolled": true
   },
   "outputs": [
    {
     "name": "stdout",
     "output_type": "stream",
     "text": [
      "saw | VBD | verb, past tense\n"
     ]
    }
   ],
   "source": [
    "doc = nlp(\"i saw movie\")\n",
    "\n",
    "print(doc[1].text, \"|\", doc[1].tag_, \"|\", spacy.explain(doc[1].tag_))"
   ]
  },
  {
   "cell_type": "code",
   "execution_count": 13,
   "metadata": {
    "scrolled": false
   },
   "outputs": [
    {
     "data": {
      "text/plain": [
       "[Maybe,\n",
       " in,\n",
       " a,\n",
       " couple,\n",
       " hours,\n",
       " it,\n",
       " will,\n",
       " sink,\n",
       " in,\n",
       " but,\n",
       " it,\n",
       " is,\n",
       " a,\n",
       " great,\n",
       " feeling,\n",
       " said,\n",
       " Rohit,\n",
       " Sharma,\n",
       " India,\n",
       " ’s,\n",
       " captain,\n",
       " who,\n",
       " took,\n",
       " a,\n",
       " tour,\n",
       " of,\n",
       " the,\n",
       " stadium,\n",
       " with,\n",
       " his,\n",
       " daughter,\n",
       " propped,\n",
       " on,\n",
       " his,\n",
       " shoulders,\n",
       " to,\n",
       " thank,\n",
       " the,\n",
       " crowd,\n",
       " To,\n",
       " cross,\n",
       " the,\n",
       " line,\n",
       " it,\n",
       " feels,\n",
       " great,\n",
       " for,\n",
       " everyone]"
      ]
     },
     "execution_count": 13,
     "metadata": {},
     "output_type": "execute_result"
    }
   ],
   "source": [
    "earnings_text=\"\"\"Maybe in a couple hours it will sink in, but it is a great feeling,” \n",
    "said Rohit Sharma, India’s captain, who took a tour of the stadium with his daughter \n",
    "propped on his shoulders to thank the crowd. “To cross the line — it feels great for everyone.\"\"\"\n",
    "doc = nlp(earnings_text)\n",
    "\n",
    "filtered_tokens = []\n",
    "\n",
    "for token in doc:\n",
    "    if token.pos_ not in [\"SPACE\", \"PUNCT\", \"X\"]:\n",
    "        filtered_tokens.append(token)\n",
    "filtered_tokens"
   ]
  },
  {
   "cell_type": "code",
   "execution_count": 14,
   "metadata": {
    "scrolled": false
   },
   "outputs": [
    {
     "data": {
      "text/plain": [
       "[Maybe, in, a, couple, hours, it, will, sink, in, but]"
      ]
     },
     "execution_count": 14,
     "metadata": {},
     "output_type": "execute_result"
    }
   ],
   "source": [
    "filtered_tokens[:10]"
   ]
  },
  {
   "cell_type": "code",
   "execution_count": 15,
   "metadata": {},
   "outputs": [
    {
     "data": {
      "text/plain": [
       "{86: 1,\n",
       " 85: 6,\n",
       " 90: 6,\n",
       " 92: 10,\n",
       " 95: 7,\n",
       " 87: 2,\n",
       " 100: 7,\n",
       " 97: 9,\n",
       " 89: 1,\n",
       " 84: 2,\n",
       " 103: 2,\n",
       " 96: 3,\n",
       " 94: 3}"
      ]
     },
     "execution_count": 15,
     "metadata": {},
     "output_type": "execute_result"
    }
   ],
   "source": [
    "count = doc.count_by(spacy.attrs.POS)\n",
    "count"
   ]
  },
  {
   "cell_type": "code",
   "execution_count": 16,
   "metadata": {},
   "outputs": [
    {
     "data": {
      "text/plain": [
       "'PROPN'"
      ]
     },
     "execution_count": 16,
     "metadata": {},
     "output_type": "execute_result"
    }
   ],
   "source": [
    "doc.vocab[96].text"
   ]
  },
  {
   "cell_type": "code",
   "execution_count": 30,
   "metadata": {},
   "outputs": [
    {
     "name": "stdout",
     "output_type": "stream",
     "text": [
      "<class 'spacy.tokens.token.Token'>\n"
     ]
    }
   ],
   "source": [
    "# print(type(doc.vocab[0]))\n",
    "# print(type(doc.tokens))\n",
    "# print(type(doc[1]))"
   ]
  },
  {
   "cell_type": "code",
   "execution_count": 22,
   "metadata": {},
   "outputs": [
    {
     "name": "stdout",
     "output_type": "stream",
     "text": [
      "ADV | 1\n",
      "ADP | 6\n",
      "DET | 6\n",
      "NOUN | 10\n",
      "PRON | 7\n",
      "AUX | 2\n",
      "VERB | 7\n",
      "PUNCT | 9\n",
      "CCONJ | 1\n",
      "ADJ | 2\n",
      "SPACE | 2\n",
      "PROPN | 3\n",
      "PART | 3\n"
     ]
    }
   ],
   "source": [
    "for k,v in count.items():\n",
    "    print(doc.vocab[k].text, \"|\",v)"
   ]
  },
  {
   "cell_type": "code",
   "execution_count": null,
   "metadata": {},
   "outputs": [],
   "source": []
  }
 ],
 "metadata": {
  "kernelspec": {
   "display_name": "Python 3 (ipykernel)",
   "language": "python",
   "name": "python3"
  },
  "language_info": {
   "codemirror_mode": {
    "name": "ipython",
    "version": 3
   },
   "file_extension": ".py",
   "mimetype": "text/x-python",
   "name": "python",
   "nbconvert_exporter": "python",
   "pygments_lexer": "ipython3",
   "version": "3.10.9"
  }
 },
 "nbformat": 4,
 "nbformat_minor": 4
}
