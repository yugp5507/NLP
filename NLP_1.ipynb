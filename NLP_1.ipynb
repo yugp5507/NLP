{
 "cells": [
  {
   "cell_type": "code",
   "execution_count": 1,
   "id": "aecfc20e",
   "metadata": {},
   "outputs": [],
   "source": [
    "import numpy as np\n",
    "import pandas as pd\n",
    "import re\n",
    "import string\n",
    "from textblob import TextBlob\n",
    "from nltk.corpus import stopwords\n",
    "from nltk.tokenize import word_tokenize, sent_tokenize\n",
    "from nltk.stem.porter import PorterStemmer"
   ]
  },
  {
   "cell_type": "code",
   "execution_count": 2,
   "id": "459493f3",
   "metadata": {},
   "outputs": [
    {
     "data": {
      "text/html": [
       "<div>\n",
       "<style scoped>\n",
       "    .dataframe tbody tr th:only-of-type {\n",
       "        vertical-align: middle;\n",
       "    }\n",
       "\n",
       "    .dataframe tbody tr th {\n",
       "        vertical-align: top;\n",
       "    }\n",
       "\n",
       "    .dataframe thead th {\n",
       "        text-align: right;\n",
       "    }\n",
       "</style>\n",
       "<table border=\"1\" class=\"dataframe\">\n",
       "  <thead>\n",
       "    <tr style=\"text-align: right;\">\n",
       "      <th></th>\n",
       "      <th>review</th>\n",
       "      <th>sentiment</th>\n",
       "    </tr>\n",
       "  </thead>\n",
       "  <tbody>\n",
       "    <tr>\n",
       "      <th>0</th>\n",
       "      <td>One of the other reviewers has mentioned that ...</td>\n",
       "      <td>positive</td>\n",
       "    </tr>\n",
       "    <tr>\n",
       "      <th>1</th>\n",
       "      <td>A wonderful little production. &lt;br /&gt;&lt;br /&gt;The...</td>\n",
       "      <td>positive</td>\n",
       "    </tr>\n",
       "    <tr>\n",
       "      <th>2</th>\n",
       "      <td>I thought this was a wonderful way to spend ti...</td>\n",
       "      <td>positive</td>\n",
       "    </tr>\n",
       "    <tr>\n",
       "      <th>3</th>\n",
       "      <td>Basically there's a family where a little boy ...</td>\n",
       "      <td>negative</td>\n",
       "    </tr>\n",
       "    <tr>\n",
       "      <th>4</th>\n",
       "      <td>Petter Mattei's \"Love in the Time of Money\" is...</td>\n",
       "      <td>positive</td>\n",
       "    </tr>\n",
       "  </tbody>\n",
       "</table>\n",
       "</div>"
      ],
      "text/plain": [
       "                                              review sentiment\n",
       "0  One of the other reviewers has mentioned that ...  positive\n",
       "1  A wonderful little production. <br /><br />The...  positive\n",
       "2  I thought this was a wonderful way to spend ti...  positive\n",
       "3  Basically there's a family where a little boy ...  negative\n",
       "4  Petter Mattei's \"Love in the Time of Money\" is...  positive"
      ]
     },
     "execution_count": 2,
     "metadata": {},
     "output_type": "execute_result"
    }
   ],
   "source": [
    "df = pd.read_csv('IMDB_Dataset.csv')\n",
    "df.head()"
   ]
  },
  {
   "cell_type": "code",
   "execution_count": 3,
   "id": "b3a2d725",
   "metadata": {},
   "outputs": [
    {
     "data": {
      "text/plain": [
       "0        one of the other reviewers has mentioned that ...\n",
       "1        a wonderful little production. <br /><br />the...\n",
       "2        i thought this was a wonderful way to spend ti...\n",
       "3        basically there's a family where a little boy ...\n",
       "4        petter mattei's \"love in the time of money\" is...\n",
       "                               ...                        \n",
       "49995    i thought this movie did a down right good job...\n",
       "49996    bad plot, bad dialogue, bad acting, idiotic di...\n",
       "49997    i am a catholic taught in parochial elementary...\n",
       "49998    i'm going to have to disagree with the previou...\n",
       "49999    no one expects the star trek movies to be high...\n",
       "Name: review, Length: 50000, dtype: object"
      ]
     },
     "execution_count": 3,
     "metadata": {},
     "output_type": "execute_result"
    }
   ],
   "source": [
    "df['review'].str.lower()"
   ]
  },
  {
   "cell_type": "code",
   "execution_count": 4,
   "id": "40bb3db5",
   "metadata": {},
   "outputs": [],
   "source": [
    "\n",
    "def remove_html_tags(reviews):\n",
    "    return re.sub(r'<[^<]+?>', '', reviews)\n",
    "\n",
    "df['review'] = df['review'].apply(remove_html_tags)"
   ]
  },
  {
   "cell_type": "code",
   "execution_count": 5,
   "id": "47e2898d",
   "metadata": {},
   "outputs": [
    {
     "data": {
      "text/plain": [
       "0        False\n",
       "1        False\n",
       "2        False\n",
       "3        False\n",
       "4        False\n",
       "         ...  \n",
       "49995    False\n",
       "49996    False\n",
       "49997    False\n",
       "49998    False\n",
       "49999    False\n",
       "Name: review, Length: 50000, dtype: bool"
      ]
     },
     "execution_count": 5,
     "metadata": {},
     "output_type": "execute_result"
    }
   ],
   "source": [
    "df['review'].str.contains('html')"
   ]
  },
  {
   "cell_type": "code",
   "execution_count": 6,
   "id": "9c8f3c0a",
   "metadata": {},
   "outputs": [],
   "source": [
    "def remove_url(text):\n",
    "    return re.sub(r'http[s]?://\\S+|www\\.\\S+', '', text)"
   ]
  },
  {
   "cell_type": "code",
   "execution_count": 7,
   "id": "cb900a3e",
   "metadata": {},
   "outputs": [],
   "source": [
    "df['review'] = df['review'].apply(remove_url)"
   ]
  },
  {
   "cell_type": "code",
   "execution_count": 8,
   "id": "0f515111",
   "metadata": {},
   "outputs": [
    {
     "data": {
      "text/plain": [
       "'!\"#$%&\\'()*+,-./:;<=>?@[\\\\]^_`{|}~'"
      ]
     },
     "execution_count": 8,
     "metadata": {},
     "output_type": "execute_result"
    }
   ],
   "source": [
    "#Remove punctuation¶\n",
    "string.punctuation"
   ]
  },
  {
   "cell_type": "code",
   "execution_count": 9,
   "id": "9722658f",
   "metadata": {},
   "outputs": [],
   "source": [
    "exclude  = string.punctuation"
   ]
  },
  {
   "cell_type": "code",
   "execution_count": 10,
   "id": "795cf4cf",
   "metadata": {},
   "outputs": [],
   "source": [
    "def remove_punctuation(text):\n",
    "    for char in exclude:\n",
    "        text = text.replace(char, '')\n",
    "    return text "
   ]
  },
  {
   "cell_type": "code",
   "execution_count": 11,
   "id": "0d222e90",
   "metadata": {},
   "outputs": [
    {
     "name": "stdout",
     "output_type": "stream",
     "text": [
      "string with punctuation\n"
     ]
    }
   ],
   "source": [
    "text = \"string. with. punctuation?\"\n",
    "print(remove_punctuation(text))"
   ]
  },
  {
   "cell_type": "code",
   "execution_count": 12,
   "id": "377e30e6",
   "metadata": {},
   "outputs": [
    {
     "data": {
      "text/plain": [
       "'string with punctuation'"
      ]
     },
     "execution_count": 12,
     "metadata": {},
     "output_type": "execute_result"
    }
   ],
   "source": [
    "def remove_punctuation(text):\n",
    "    return text.translate(str.maketrans('', '', string.punctuation))\n",
    "\n",
    "remove_punctuation(\"string. with. punctuation?\")"
   ]
  },
  {
   "cell_type": "code",
   "execution_count": 13,
   "id": "78232838",
   "metadata": {},
   "outputs": [
    {
     "data": {
      "text/plain": [
       "'A wonderful little production The filming technique is very unassuming very oldtimeBBC fashion and gives a comforting and sometimes discomforting sense of realism to the entire piece The actors are extremely well chosen Michael Sheen not only has got all the polari but he has all the voices down pat too You can truly see the seamless editing guided by the references to Williams diary entries not only is it well worth the watching but it is a terrificly written and performed piece A masterful production about one of the great masters of comedy and his life The realism really comes home with the little things the fantasy of the guard which rather than use the traditional dream techniques remains solid then disappears It plays on our knowledge and our senses particularly with the scenes concerning Orton and Halliwell and the sets particularly of their flat with Halliwells murals decorating every surface are terribly well done'"
      ]
     },
     "execution_count": 13,
     "metadata": {},
     "output_type": "execute_result"
    }
   ],
   "source": [
    "df['review'] = df['review'].apply(remove_punctuation)\n",
    "df['review'][1]"
   ]
  },
  {
   "cell_type": "markdown",
   "id": "602f8e70",
   "metadata": {},
   "source": [
    "Spelling correction"
   ]
  },
  {
   "cell_type": "code",
   "execution_count": 14,
   "id": "2a15b86f",
   "metadata": {},
   "outputs": [
    {
     "name": "stdout",
     "output_type": "stream",
     "text": [
      "certains condition during several generation are modify in the same manner\n"
     ]
    }
   ],
   "source": [
    "def spelling_correction(text):\n",
    "    return TextBlob(text).correct()\n",
    "\n",
    "incorrect_text = 'certains contion durinig sevveral ggeneration aree modifyy in the sammee mannere'\n",
    "\n",
    "print(spelling_correction(incorrect_text))"
   ]
  },
  {
   "cell_type": "markdown",
   "id": "23e0e076",
   "metadata": {},
   "source": [
    "Removing stop words"
   ]
  },
  {
   "cell_type": "code",
   "execution_count": 15,
   "id": "873edcf5",
   "metadata": {},
   "outputs": [
    {
     "data": {
      "text/plain": [
       "179"
      ]
     },
     "execution_count": 15,
     "metadata": {},
     "output_type": "execute_result"
    }
   ],
   "source": [
    "stop_words = set(stopwords.words('english'))\n",
    "len(stop_words)\n",
    "# stop_words"
   ]
  },
  {
   "cell_type": "code",
   "execution_count": 16,
   "id": "8be4bbe3",
   "metadata": {},
   "outputs": [
    {
     "data": {
      "text/plain": [
       "['Natural',\n",
       " 'language',\n",
       " 'processing',\n",
       " 'interdisciplinary',\n",
       " 'subfield',\n",
       " 'computer',\n",
       " 'science',\n",
       " 'information',\n",
       " 'retrieval.',\n",
       " 'It',\n",
       " 'primarily',\n",
       " 'concerned',\n",
       " 'giving',\n",
       " 'computers',\n",
       " 'ability',\n",
       " 'support',\n",
       " 'manipulate',\n",
       " 'human',\n",
       " 'language']"
      ]
     },
     "execution_count": 16,
     "metadata": {},
     "output_type": "execute_result"
    }
   ],
   "source": [
    "def remove_stopwords(text):\n",
    "    return [word for word in text.split() if word not in stop_words]\n",
    "\n",
    "# def remove_stopwords(text):\n",
    "#     lst = []\n",
    "#     for word in text.split():\n",
    "#         if word not in stop_words:\n",
    "#             lst.append(word)\n",
    "#     return \" \".join(lst)\n",
    "\n",
    "text = 'Natural language processing is an interdisciplinary subfield of computer science and information retrieval. It is primarily concerned with giving computers the ability to support and manipulate human language'\n",
    "remove_stopwords(text)"
   ]
  },
  {
   "cell_type": "code",
   "execution_count": 17,
   "id": "876215b0",
   "metadata": {},
   "outputs": [
    {
     "data": {
      "text/plain": [
       "['A',\n",
       " 'wonderful',\n",
       " 'little',\n",
       " 'production',\n",
       " 'The',\n",
       " 'filming',\n",
       " 'technique',\n",
       " 'unassuming',\n",
       " 'oldtimeBBC',\n",
       " 'fashion',\n",
       " 'gives',\n",
       " 'comforting',\n",
       " 'sometimes',\n",
       " 'discomforting',\n",
       " 'sense',\n",
       " 'realism',\n",
       " 'entire',\n",
       " 'piece',\n",
       " 'The',\n",
       " 'actors',\n",
       " 'extremely',\n",
       " 'well',\n",
       " 'chosen',\n",
       " 'Michael',\n",
       " 'Sheen',\n",
       " 'got',\n",
       " 'polari',\n",
       " 'voices',\n",
       " 'pat',\n",
       " 'You',\n",
       " 'truly',\n",
       " 'see',\n",
       " 'seamless',\n",
       " 'editing',\n",
       " 'guided',\n",
       " 'references',\n",
       " 'Williams',\n",
       " 'diary',\n",
       " 'entries',\n",
       " 'well',\n",
       " 'worth',\n",
       " 'watching',\n",
       " 'terrificly',\n",
       " 'written',\n",
       " 'performed',\n",
       " 'piece',\n",
       " 'A',\n",
       " 'masterful',\n",
       " 'production',\n",
       " 'one',\n",
       " 'great',\n",
       " 'masters',\n",
       " 'comedy',\n",
       " 'life',\n",
       " 'The',\n",
       " 'realism',\n",
       " 'really',\n",
       " 'comes',\n",
       " 'home',\n",
       " 'little',\n",
       " 'things',\n",
       " 'fantasy',\n",
       " 'guard',\n",
       " 'rather',\n",
       " 'use',\n",
       " 'traditional',\n",
       " 'dream',\n",
       " 'techniques',\n",
       " 'remains',\n",
       " 'solid',\n",
       " 'disappears',\n",
       " 'It',\n",
       " 'plays',\n",
       " 'knowledge',\n",
       " 'senses',\n",
       " 'particularly',\n",
       " 'scenes',\n",
       " 'concerning',\n",
       " 'Orton',\n",
       " 'Halliwell',\n",
       " 'sets',\n",
       " 'particularly',\n",
       " 'flat',\n",
       " 'Halliwells',\n",
       " 'murals',\n",
       " 'decorating',\n",
       " 'every',\n",
       " 'surface',\n",
       " 'terribly',\n",
       " 'well',\n",
       " 'done']"
      ]
     },
     "execution_count": 17,
     "metadata": {},
     "output_type": "execute_result"
    }
   ],
   "source": [
    "df['review'] = df['review'].apply(remove_stopwords)\n",
    "df['review'][1]\n",
    "\n",
    "\n",
    "# df['review'].apply(lambda x: len(x.split()) - len(remove_stopwords(x).split()))"
   ]
  },
  {
   "cell_type": "code",
   "execution_count": 18,
   "id": "9641378f",
   "metadata": {},
   "outputs": [],
   "source": [
    "def remove_emoji(text):\n",
    "    emoji_pattern = re.compile(\"[\"\n",
    "                               u\"\\U0001F600-\\U0001F64F\"\n",
    "                               # emoticons\n",
    "                               u\"\\U0001F300-\\U0001F5FF\"\n",
    "                               # symbols & pictographs\n",
    "                               u\"\\U0001F680-\\U0001F6FF\"\n",
    "                               # transport & map symbols\n",
    "                               u\"\\U0001F1E0-\\U0001F1FF\"\n",
    "                               # flags (105)\n",
    "                               u\"\\U00002702-\\U00002780\"\n",
    "                               u\"\\U000024C2-\\U0001F251\"\n",
    "                               \"]+\", flags=re.UNICODE)\n",
    "    return emoji_pattern.sub(r'', text)"
   ]
  },
  {
   "cell_type": "code",
   "execution_count": 19,
   "id": "0ba0ba8b",
   "metadata": {},
   "outputs": [
    {
     "name": "stdout",
     "output_type": "stream",
     "text": [
      "Hello!  This is a sample text with emoji. . Today i am happy \n"
     ]
    }
   ],
   "source": [
    "text_with_emoji = \"Hello! 😀 This is a sample text with emoji. \"\n",
    "text_without_emoji = remove_emoji(text_with_emoji)\n",
    "print(text_without_emoji) "
   ]
  },
  {
   "cell_type": "code",
   "execution_count": 22,
   "id": "15647864",
   "metadata": {},
   "outputs": [
    {
     "name": "stdout",
     "output_type": "stream",
     "text": [
      "['Lower casing: Converting a word to lower case (NLP -> nlp).', 'Words like Book and book mean the same but when not converted to the lower case those two are represented as two different words in the vector space model (resulting in more dimensions).', 'Output: books are on the table.']\n",
      "['Lower', 'casing', ':', 'Converting', 'a', 'word', 'to', 'lower', 'case', '(', 'NLP', '-', '>', 'nlp', ')', '.', 'Words', 'like', 'Book', 'and', 'book', 'mean', 'the', 'same', 'but', 'when', 'not', 'converted', 'to', 'the', 'lower', 'case', 'those', 'two', 'are', 'represented', 'as', 'two', 'different', 'words', 'in', 'the', 'vector', 'space', 'model', '(', 'resulting', 'in', 'more', 'dimensions', ')', '.', 'Output', ':', 'books', 'are', 'on', 'the', 'table', '.']\n"
     ]
    }
   ],
   "source": [
    "# Tokenization\n",
    "sent1 = 'Lower casing: Converting a word to lower case (NLP -> nlp). Words like Book and book mean the same but when not converted to the lower case those two are represented as two different words in the vector space model (resulting in more dimensions). Output: books are on the table.'\n",
    "print(sent_tokenize(sent1))\n",
    "print(word_tokenize(sent1))"
   ]
  },
  {
   "cell_type": "code",
   "execution_count": 21,
   "id": "91554f0d",
   "metadata": {},
   "outputs": [
    {
     "data": {
      "text/plain": [
       "'walk walk walk'"
      ]
     },
     "execution_count": 21,
     "metadata": {},
     "output_type": "execute_result"
    }
   ],
   "source": [
    "# Stemming\n",
    "ps = PorterStemmer()\n",
    "def stem_words(text):\n",
    "    \n",
    "    return \" \".join([ps.stem(word) for word in word_tokenize(text)])\n",
    "sample = 'walk walking walked'\n",
    "stem_words(sample)"
   ]
  },
  {
   "cell_type": "code",
   "execution_count": null,
   "id": "9f5af5e2",
   "metadata": {},
   "outputs": [],
   "source": []
  }
 ],
 "metadata": {
  "kernelspec": {
   "display_name": "Python 3 (ipykernel)",
   "language": "python",
   "name": "python3"
  },
  "language_info": {
   "codemirror_mode": {
    "name": "ipython",
    "version": 3
   },
   "file_extension": ".py",
   "mimetype": "text/x-python",
   "name": "python",
   "nbconvert_exporter": "python",
   "pygments_lexer": "ipython3",
   "version": "3.10.9"
  }
 },
 "nbformat": 4,
 "nbformat_minor": 5
}
